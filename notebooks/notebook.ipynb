{
 "cells": [
  {
   "cell_type": "code",
   "execution_count": 1,
   "metadata": {},
   "outputs": [],
   "source": [
    "import pandas as pd\n",
    "import os\n",
    "\n",
    "# Define the directory containing the .txt files\n",
    "directory = '/home/julian/Documents/local-methane-data-diego/2ndVisit/txt/'\n",
    "\n",
    "# Initialize an empty DataFrame to store all data\n",
    "all_data = pd.DataFrame()\n",
    "\n",
    "# Iterate over each file in the directory\n",
    "for filename in os.listdir(directory):\n",
    "    if filename.endswith('.txt'):\n",
    "        file_path = os.path.join(directory, filename)\n",
    "        # Read the .txt file into a DataFrame\n",
    "        df = pd.read_csv(file_path)\n",
    "        # Select only the date and measured level columns\n",
    "        df = df.iloc[:, [0, 1]]\n",
    "        # Append the data to the all_data DataFrame\n",
    "        all_data = pd.concat([all_data, df])\n",
    "\n",
    "# Convert the date column to datetime format\n",
    "#all_data.iloc[:, 0] = pd.to_datetime(all_data.iloc[:, 0], format=\"%H:%M:%S.%f\")\n",
    "\n",
    "# Sort the DataFrame by the date column\n",
    "all_data.sort_values(by=all_data.columns[0], inplace=True)\n",
    "\n",
    "# Save the combined and sorted data to a new .txt file\n",
    "all_data.to_csv('combined_sorted_data.txt', index=False, header=True)"
   ]
  },
  {
   "cell_type": "code",
   "execution_count": 2,
   "metadata": {},
   "outputs": [],
   "source": [
    "import numpy as np\n",
    "all_data['hour'] = all_data['DATE'].apply(lambda x: int(float((x.split(':')[0]))))\n",
    "all_data['minute'] = all_data['DATE'].apply(lambda x: int(float(x.split(':')[1])))\n",
    "all_data['second'] = all_data['DATE'].apply(lambda x: float(x.split(':')[2]))\n",
    "\n",
    "all_data['hour_sin'] = np.sin(2 * np.pi * all_data['hour'] / 24)\n",
    "all_data['hour_cos'] = np.cos(2 * np.pi * all_data['hour'] / 24)\n",
    "all_data['minute_sin'] = np.sin(2 * np.pi * all_data['minute'] / 60)\n",
    "all_data['minute_cos'] = np.cos(2 * np.pi * all_data['minute'] / 60)\n",
    "all_data['second_sin'] = np.sin(2 * np.pi * all_data['second'] / 60)\n",
    "all_data['second_cos'] = np.cos(2 * np.pi * all_data['second'] / 60)\n",
    "\n",
    "all_data.drop(columns=['hour', 'minute', 'second'], inplace=True)"
   ]
  },
  {
   "cell_type": "code",
   "execution_count": 9,
   "metadata": {},
   "outputs": [],
   "source": [
    "all_data = all_data.drop(columns=['DATE'])"
   ]
  },
  {
   "cell_type": "code",
   "execution_count": 11,
   "metadata": {},
   "outputs": [],
   "source": [
    "all_data.to_csv('combined_sorted_data.txt', index=False, header=False)"
   ]
  },
  {
   "cell_type": "code",
   "execution_count": null,
   "metadata": {},
   "outputs": [],
   "source": [
    "import plotly.express as px\n",
    "\n",
    "# Plot the data\n",
    "fig = px.line(all_data, x='DATE', y='MEAS', title='Measured Levels Over Time')\n",
    "\n",
    "# Show the plot\n",
    "fig.show()"
   ]
  },
  {
   "cell_type": "markdown",
   "metadata": {},
   "source": [
    "Example of one subsignal"
   ]
  },
  {
   "cell_type": "code",
   "execution_count": 44,
   "metadata": {},
   "outputs": [],
   "source": [
    "start_signal_1 = '18:27:06.500'\n",
    "stop_signal_1 = '18:29:20.000'\n",
    "\n",
    "start_signal_2 = '18:21:21.500'\n",
    "stop_signal_2 = '18:22:10.000'"
   ]
  },
  {
   "cell_type": "code",
   "execution_count": 45,
   "metadata": {},
   "outputs": [],
   "source": [
    "df = all_data.DATE == start_signal_1\n",
    "idx_start_1 = [cnt for cnt, i in enumerate(df.values) if i][0]\n",
    "df = all_data.DATE == stop_signal_1\n",
    "idx_stop_1 = [cnt for cnt, i in enumerate(df.values) if i][0]\n",
    "\n",
    "df = all_data.DATE == start_signal_2\n",
    "idx_start_2 = [cnt for cnt, i in enumerate(df.values) if i][0]\n",
    "df = all_data.DATE == stop_signal_2\n",
    "idx_stop_2 = [cnt for cnt, i in enumerate(df.values) if i][0]"
   ]
  },
  {
   "cell_type": "code",
   "execution_count": null,
   "metadata": {},
   "outputs": [],
   "source": [
    "print(idx_start_1, idx_stop_1)\n",
    "print(idx_start_2, idx_stop_2)"
   ]
  },
  {
   "cell_type": "code",
   "execution_count": null,
   "metadata": {},
   "outputs": [],
   "source": [
    "print(all_data.iloc[idx_start_1,:2], all_data.iloc[idx_stop_1,:2])\n",
    "print(all_data.iloc[idx_start_2,:2], all_data.iloc[idx_stop_2,:2])"
   ]
  },
  {
   "cell_type": "code",
   "execution_count": 48,
   "metadata": {},
   "outputs": [],
   "source": [
    "signal_1 = all_data.iloc[idx_start_1:idx_stop_1, 1]\n",
    "signal_2 = all_data.iloc[idx_start_2:idx_stop_2, 1]"
   ]
  },
  {
   "cell_type": "code",
   "execution_count": null,
   "metadata": {},
   "outputs": [],
   "source": [
    "signal_1."
   ]
  },
  {
   "cell_type": "code",
   "execution_count": null,
   "metadata": {},
   "outputs": [],
   "source": [
    "signal_1.plot()"
   ]
  },
  {
   "cell_type": "code",
   "execution_count": null,
   "metadata": {},
   "outputs": [],
   "source": [
    "signal_2.plot()"
   ]
  },
  {
   "cell_type": "code",
   "execution_count": 1,
   "metadata": {},
   "outputs": [],
   "source": [
    "import numpy as np\n",
    "import matplotlib.pyplot as plt"
   ]
  },
  {
   "cell_type": "code",
   "execution_count": 4,
   "metadata": {},
   "outputs": [],
   "source": [
    "pred = np.load(\"../results/long_term_forecast_traffic_40_40_Autoformer_custom_ftS_sl40_ll20_pl30_dm512_nh8_el2_dl1_df2048_expand2_dc4_fc3_ebtimeF_dtTrue_Exp_0/pred.npy\")\n",
    "true = np.load(\"../results/long_term_forecast_traffic_40_40_Autoformer_custom_ftS_sl40_ll20_pl30_dm512_nh8_el2_dl1_df2048_expand2_dc4_fc3_ebtimeF_dtTrue_Exp_0/true.npy\")"
   ]
  },
  {
   "cell_type": "code",
   "execution_count": null,
   "metadata": {},
   "outputs": [],
   "source": [
    "print(pred.shape, true.shape)"
   ]
  },
  {
   "cell_type": "code",
   "execution_count": null,
   "metadata": {},
   "outputs": [],
   "source": [
    "fig, ax = plt.subplots(nrows = 3, ncols = 1)\n",
    "fig.set_size_inches(7.5, 6)\n",
    "for col in ax:\n",
    "    r = np.random.randint(0, pred.shape[0])\n",
    "    target_seq = true[r, :, :].squeeze().tolist()\n",
    "    pred_seq = pred[r, :, :].squeeze().tolist()\n",
    "    x_axis = range(len(target_seq))\n",
    "    col.plot(x_axis[:], target_seq, color = 'blue')\n",
    "    col.plot(x_axis[:],\n",
    "             pred_seq,\n",
    "             label = 'predicted',\n",
    "             color = 'orange',\n",
    "             linestyle = '--',\n",
    "             linewidth = 3)\n",
    "    col.legend(loc = \"upper right\")\n",
    "plt.show()"
   ]
  }
 ],
 "metadata": {
  "kernelspec": {
   "display_name": "wearme",
   "language": "python",
   "name": "python3"
  },
  "language_info": {
   "codemirror_mode": {
    "name": "ipython",
    "version": 3
   },
   "file_extension": ".py",
   "mimetype": "text/x-python",
   "name": "python",
   "nbconvert_exporter": "python",
   "pygments_lexer": "ipython3",
   "version": "3.12.5"
  }
 },
 "nbformat": 4,
 "nbformat_minor": 2
}
